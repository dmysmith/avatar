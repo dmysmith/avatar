{
 "cells": [
  {
   "cell_type": "code",
   "execution_count": 19,
   "id": "99e73130",
   "metadata": {},
   "outputs": [],
   "source": [
    "# load packages\n",
    "library(ggplot2)"
   ]
  },
  {
   "cell_type": "code",
   "execution_count": 20,
   "id": "8d0053a2",
   "metadata": {},
   "outputs": [],
   "source": [
    "# define paths\n",
    "results_path = '/space/syn50/1/data/ABCD/d9smith/avatar/tabulated/results_2023-05-10'"
   ]
  },
  {
   "cell_type": "code",
   "execution_count": 21,
   "id": "6a12305f",
   "metadata": {},
   "outputs": [],
   "source": [
    "# get paths to model results\n",
    "beta_file = paste0(results_path, '/', 'all_betas.txt')\n",
    "id_file = paste0(results_path, '/', 'all_random_effects.txt')\n",
    "rand_file = paste0(results_path, '/', 'all_random_effects.txt')"
   ]
  },
  {
   "cell_type": "code",
   "execution_count": 22,
   "id": "6addf16f",
   "metadata": {},
   "outputs": [],
   "source": [
    "beta = read.delim(beta_file, sep = \",\")\n",
    "id = read.delim(id_file, sep = \",\")\n",
    "rand = read.delim(rand_file, sep = \",\")"
   ]
  },
  {
   "cell_type": "code",
   "execution_count": 25,
   "id": "e1dbf46f",
   "metadata": {},
   "outputs": [
    {
     "data": {
      "text/html": [
       "<table class=\"dataframe\">\n",
       "<caption>A data.frame: 6 × 3</caption>\n",
       "<thead>\n",
       "\t<tr><th></th><th scope=col>model</th><th scope=col>random_effect</th><th scope=col>est</th></tr>\n",
       "\t<tr><th></th><th scope=col>&lt;fct&gt;</th><th scope=col>&lt;fct&gt;</th><th scope=col>&lt;dbl&gt;</th></tr>\n",
       "</thead>\n",
       "<tbody>\n",
       "\t<tr><th scope=row>1</th><td>designMat01_t1w_eur_AgeSexScanSoftPCs</td><td>F        </td><td> 4.063103e-06</td></tr>\n",
       "\t<tr><th scope=row>2</th><td>designMat01_t1w_eur_AgeSexScanSoftPCs</td><td>A        </td><td> 6.179932e-01</td></tr>\n",
       "\t<tr><th scope=row>3</th><td>designMat01_t1w_eur_AgeSexScanSoftPCs</td><td>S        </td><td> 1.087295e-01</td></tr>\n",
       "\t<tr><th scope=row>4</th><td>designMat01_t1w_eur_AgeSexScanSoftPCs</td><td>E        </td><td> 2.732732e-01</td></tr>\n",
       "\t<tr><th scope=row>5</th><td>designMat01_t1w_eur_AgeSexScanSoftPCs</td><td>sig2tvec </td><td> 8.031356e+00</td></tr>\n",
       "\t<tr><th scope=row>6</th><td>designMat01_t1w_eur_AgeSexScanSoftPCs</td><td>logLikvec</td><td>-2.386585e+04</td></tr>\n",
       "</tbody>\n",
       "</table>\n"
      ],
      "text/latex": [
       "A data.frame: 6 × 3\n",
       "\\begin{tabular}{r|lll}\n",
       "  & model & random\\_effect & est\\\\\n",
       "  & <fct> & <fct> & <dbl>\\\\\n",
       "\\hline\n",
       "\t1 & designMat01\\_t1w\\_eur\\_AgeSexScanSoftPCs & F         &  4.063103e-06\\\\\n",
       "\t2 & designMat01\\_t1w\\_eur\\_AgeSexScanSoftPCs & A         &  6.179932e-01\\\\\n",
       "\t3 & designMat01\\_t1w\\_eur\\_AgeSexScanSoftPCs & S         &  1.087295e-01\\\\\n",
       "\t4 & designMat01\\_t1w\\_eur\\_AgeSexScanSoftPCs & E         &  2.732732e-01\\\\\n",
       "\t5 & designMat01\\_t1w\\_eur\\_AgeSexScanSoftPCs & sig2tvec  &  8.031356e+00\\\\\n",
       "\t6 & designMat01\\_t1w\\_eur\\_AgeSexScanSoftPCs & logLikvec & -2.386585e+04\\\\\n",
       "\\end{tabular}\n"
      ],
      "text/markdown": [
       "\n",
       "A data.frame: 6 × 3\n",
       "\n",
       "| <!--/--> | model &lt;fct&gt; | random_effect &lt;fct&gt; | est &lt;dbl&gt; |\n",
       "|---|---|---|---|\n",
       "| 1 | designMat01_t1w_eur_AgeSexScanSoftPCs | F         |  4.063103e-06 |\n",
       "| 2 | designMat01_t1w_eur_AgeSexScanSoftPCs | A         |  6.179932e-01 |\n",
       "| 3 | designMat01_t1w_eur_AgeSexScanSoftPCs | S         |  1.087295e-01 |\n",
       "| 4 | designMat01_t1w_eur_AgeSexScanSoftPCs | E         |  2.732732e-01 |\n",
       "| 5 | designMat01_t1w_eur_AgeSexScanSoftPCs | sig2tvec  |  8.031356e+00 |\n",
       "| 6 | designMat01_t1w_eur_AgeSexScanSoftPCs | logLikvec | -2.386585e+04 |\n",
       "\n"
      ],
      "text/plain": [
       "  model                                 random_effect est          \n",
       "1 designMat01_t1w_eur_AgeSexScanSoftPCs F              4.063103e-06\n",
       "2 designMat01_t1w_eur_AgeSexScanSoftPCs A              6.179932e-01\n",
       "3 designMat01_t1w_eur_AgeSexScanSoftPCs S              1.087295e-01\n",
       "4 designMat01_t1w_eur_AgeSexScanSoftPCs E              2.732732e-01\n",
       "5 designMat01_t1w_eur_AgeSexScanSoftPCs sig2tvec       8.031356e+00\n",
       "6 designMat01_t1w_eur_AgeSexScanSoftPCs logLikvec     -2.386585e+04"
      ]
     },
     "metadata": {},
     "output_type": "display_data"
    }
   ],
   "source": [
    "head(rand)"
   ]
  },
  {
   "cell_type": "code",
   "execution_count": 27,
   "id": "fca77ffa",
   "metadata": {},
   "outputs": [
    {
     "data": {
      "image/png": "[encoded data removed]",
      "text/plain": [
       "plot without title"
      ]
     },
     "metadata": {
      "image/png": {
       "height": 420,
       "width": 420
      }
     },
     "output_type": "display_data"
    }
   ],
   "source": [
    "# plot sig2tvec in each model\n",
    "p<-ggplot(data=rand[rand$random_effect=='sig2tvec',], aes(x=model, y=est)) +\n",
    "  geom_bar(stat=\"identity\")+\n",
    "coord_flip()\n",
    "p"
   ]
  },
  {
   "cell_type": "code",
   "execution_count": 41,
   "id": "fd3b4f24",
   "metadata": {},
   "outputs": [],
   "source": [
    "# calculate -2(LL - model 1 LL) for each model\n",
    "model1LL = loglik[loglik$model=='designMat01_t1w_eur_AgeSexScanSoftPCs',]$est\n",
    "\n",
    "loglik = rand[rand$random_effect=='logLikvec',]\n",
    "loglik$LLstat = -2*(loglik$est - model1LL)"
   ]
  },
  {
   "cell_type": "code",
   "execution_count": 44,
   "id": "d0f8dee2",
   "metadata": {},
   "outputs": [
    {
     "data": {
      "text/html": [
       "<table class=\"dataframe\">\n",
       "<caption>A data.frame: 4 × 4</caption>\n",
       "<thead>\n",
       "\t<tr><th></th><th scope=col>model</th><th scope=col>random_effect</th><th scope=col>est</th><th scope=col>LLstat</th></tr>\n",
       "\t<tr><th></th><th scope=col>&lt;fct&gt;</th><th scope=col>&lt;fct&gt;</th><th scope=col>&lt;dbl&gt;</th><th scope=col>&lt;dbl&gt;</th></tr>\n",
       "</thead>\n",
       "<tbody>\n",
       "\t<tr><th scope=row>6</th><td>designMat01_t1w_eur_AgeSexScanSoftPCs               </td><td>logLikvec</td><td>-23865.85</td><td>  0.000000</td></tr>\n",
       "\t<tr><th scope=row>12</th><td>designMat02_t1w_eur_AgeSexScanSoftPCsArea           </td><td>logLikvec</td><td>-23833.18</td><td>-65.328463</td></tr>\n",
       "\t<tr><th scope=row>18</th><td>designMat03_t1w_eur_AgeSexScanSoftPCsAreaprsnorm    </td><td>logLikvec</td><td>-23864.05</td><td> -3.607781</td></tr>\n",
       "\t<tr><th scope=row>24</th><td>designMat04_t1w_eur_AgeSexScanSoftPCsAreaAreaprsnorm</td><td>logLikvec</td><td>-23833.13</td><td>-65.440134</td></tr>\n",
       "</tbody>\n",
       "</table>\n"
      ],
      "text/latex": [
       "A data.frame: 4 × 4\n",
       "\\begin{tabular}{r|llll}\n",
       "  & model & random\\_effect & est & LLstat\\\\\n",
       "  & <fct> & <fct> & <dbl> & <dbl>\\\\\n",
       "\\hline\n",
       "\t6 & designMat01\\_t1w\\_eur\\_AgeSexScanSoftPCs                & logLikvec & -23865.85 &   0.000000\\\\\n",
       "\t12 & designMat02\\_t1w\\_eur\\_AgeSexScanSoftPCsArea            & logLikvec & -23833.18 & -65.328463\\\\\n",
       "\t18 & designMat03\\_t1w\\_eur\\_AgeSexScanSoftPCsAreaprsnorm     & logLikvec & -23864.05 &  -3.607781\\\\\n",
       "\t24 & designMat04\\_t1w\\_eur\\_AgeSexScanSoftPCsAreaAreaprsnorm & logLikvec & -23833.13 & -65.440134\\\\\n",
       "\\end{tabular}\n"
      ],
      "text/markdown": [
       "\n",
       "A data.frame: 4 × 4\n",
       "\n",
       "| <!--/--> | model &lt;fct&gt; | random_effect &lt;fct&gt; | est &lt;dbl&gt; | LLstat &lt;dbl&gt; |\n",
       "|---|---|---|---|---|\n",
       "| 6 | designMat01_t1w_eur_AgeSexScanSoftPCs                | logLikvec | -23865.85 |   0.000000 |\n",
       "| 12 | designMat02_t1w_eur_AgeSexScanSoftPCsArea            | logLikvec | -23833.18 | -65.328463 |\n",
       "| 18 | designMat03_t1w_eur_AgeSexScanSoftPCsAreaprsnorm     | logLikvec | -23864.05 |  -3.607781 |\n",
       "| 24 | designMat04_t1w_eur_AgeSexScanSoftPCsAreaAreaprsnorm | logLikvec | -23833.13 | -65.440134 |\n",
       "\n"
      ],
      "text/plain": [
       "   model                                                random_effect est      \n",
       "6  designMat01_t1w_eur_AgeSexScanSoftPCs                logLikvec     -23865.85\n",
       "12 designMat02_t1w_eur_AgeSexScanSoftPCsArea            logLikvec     -23833.18\n",
       "18 designMat03_t1w_eur_AgeSexScanSoftPCsAreaprsnorm     logLikvec     -23864.05\n",
       "24 designMat04_t1w_eur_AgeSexScanSoftPCsAreaAreaprsnorm logLikvec     -23833.13\n",
       "   LLstat    \n",
       "6    0.000000\n",
       "12 -65.328463\n",
       "18  -3.607781\n",
       "24 -65.440134"
      ]
     },
     "metadata": {},
     "output_type": "display_data"
    }
   ],
   "source": [
    "loglik"
   ]
  },
  {
   "cell_type": "code",
   "execution_count": 43,
   "id": "55522e88",
   "metadata": {},
   "outputs": [
    {
     "data": {
      "image/png": "[encoded data removed]",
      "text/plain": [
       "plot without title"
      ]
     },
     "metadata": {
      "image/png": {
       "height": 420,
       "width": 420
      }
     },
     "output_type": "display_data"
    }
   ],
   "source": [
    "# plot delta -2LL for each model\n",
    "p<-ggplot(data=loglik, aes(x=model, y=LLstat)) +\n",
    "  geom_bar(stat=\"identity\")+\n",
    "coord_flip()\n",
    "p"
   ]
  }
 ],
 "metadata": {
  "kernelspec": {
   "display_name": "R",
   "language": "R",
   "name": "ir"
  },
  "language_info": {
   "codemirror_mode": "r",
   "file_extension": ".r",
   "mimetype": "text/x-r-source",
   "name": "R",
   "pygments_lexer": "r",
   "version": "3.6.3"
  }
 },
 "nbformat": 4,
 "nbformat_minor": 5
}
